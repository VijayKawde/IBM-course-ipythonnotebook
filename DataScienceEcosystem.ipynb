{
 "cells": [
  {
   "cell_type": "markdown",
   "id": "084d4f1e-c8db-4960-af53-f0d2c40f9f21",
   "metadata": {},
   "source": [
    "# Data Science Tools and Ecosystem"
   ]
  },
  {
   "cell_type": "markdown",
   "id": "a70644cf-a717-4ff6-846e-8e459fa458c1",
   "metadata": {},
   "source": [
    "# In this notebook, Data Science Tools and Ecosystem are summarized"
   ]
  },
  {
   "cell_type": "markdown",
   "id": "6f9b0d7b-1f4a-44fd-8601-2c41d183ddf3",
   "metadata": {},
   "source": [
    "# List of Data science language\n",
    "list1 = ['Ruby', 'Python', 'Java', 'C++']\n",
    "\n",
    "1. Python.\n",
    "2. R.\n",
    "3. SQL.\n",
    "4. Java"
   ]
  },
  {
   "cell_type": "markdown",
   "id": "bf79e559-0fa8-48b5-b707-ee52f8eb2f6e",
   "metadata": {},
   "source": [
    "# List of Data science libraries\n",
    "1. TensorFlow.\n",
    "2. NumPy.\n",
    "3. SciPy.\n",
    "4. Pandas.\n",
    "5. Matplotlib.\n",
    "6. Keras.\n",
    "7. SciKit-Learn.\n",
    "8. Shutil\n",
    "9. PyTorch"
   ]
  },
  {
   "cell_type": "markdown",
   "id": "5d81fe8d-11d1-453f-b1b2-504b43917995",
   "metadata": {},
   "source": [
    "# Data Scince tools\n",
    "| Name | \n",
    "| --- |\n",
    "| Apache Spark|"
   ]
  },
  {
   "cell_type": "markdown",
   "id": "abafed1d-0cf4-4040-bbab-b0b378a01e62",
   "metadata": {
    "tags": []
   },
   "source": [
    "| Name |\n",
    "| --- |\n",
    "| Power BI |"
   ]
  },
  {
   "cell_type": "markdown",
   "id": "77ede017-0567-491c-b4a4-bdbc33c57e21",
   "metadata": {},
   "source": [
    "# Arithmetic operations"
   ]
  },
  {
   "cell_type": "code",
   "execution_count": 3,
   "id": "12a6cd44-0c9d-4e15-8c8f-88d511c01fbc",
   "metadata": {
    "tags": []
   },
   "outputs": [
    {
     "data": {
      "text/plain": [
       "5.0"
      ]
     },
     "execution_count": 3,
     "metadata": {},
     "output_type": "execute_result"
    }
   ],
   "source": [
    "code = compile(\"20 / 4\", \"<string>\", \"eval\")\n",
    "eval(code)"
   ]
  },
  {
   "cell_type": "code",
   "execution_count": 5,
   "id": "a5f22833-2733-4b51-8ef5-403dcbc80e02",
   "metadata": {
    "tags": []
   },
   "outputs": [
    {
     "data": {
      "text/plain": [
       "342"
      ]
     },
     "execution_count": 5,
     "metadata": {},
     "output_type": "execute_result"
    }
   ],
   "source": [
    "# code cell to multiply and add numbers\n",
    "(23*14)+20"
   ]
  },
  {
   "cell_type": "code",
   "execution_count": 12,
   "id": "9385710e-2598-4d0a-b825-9b880e536d01",
   "metadata": {
    "tags": []
   },
   "outputs": [
    {
     "name": "stdout",
     "output_type": "stream",
     "text": [
      "3.3333333333333335 hours, 200 mins. \n"
     ]
    }
   ],
   "source": [
    "# code cell to convert minutes to hours.\n",
    "Hrs = 0\n",
    "Mins = 200\n",
    "\n",
    "Hrs = Mins / 60\n",
    "print(str(Hrs) + \" hours, \" + str(Mins) +  \" mins. \")"
   ]
  },
  {
   "cell_type": "markdown",
   "id": "928501d7-94ef-4ca8-8721-fbba4467da97",
   "metadata": {},
   "source": [
    "# objectives\n",
    "Below the introduction cell created in Exercise 3, insert a new markdown cell to list the objectives. In this new cell start with an introductory line titled: objectives: Then using an unordered list (bullets) indicate 3 to 5 items covered in this notebook, such as List popular languages for Data Science"
   ]
  },
  {
   "cell_type": "markdown",
   "id": "1b23cd89-fc97-4ed4-a5bd-9bcce1f5767f",
   "metadata": {},
   "source": [
    "# Author:\n",
    "Vijaykumar"
   ]
  },
  {
   "cell_type": "code",
   "execution_count": null,
   "id": "e97e3d11-423b-4ddc-bcfd-57f4f853f5db",
   "metadata": {},
   "outputs": [],
   "source": []
  }
 ],
 "metadata": {
  "kernelspec": {
   "display_name": "Python",
   "language": "python",
   "name": "conda-env-python-py"
  },
  "language_info": {
   "codemirror_mode": {
    "name": "ipython",
    "version": 3
   },
   "file_extension": ".py",
   "mimetype": "text/x-python",
   "name": "python",
   "nbconvert_exporter": "python",
   "pygments_lexer": "ipython3",
   "version": "3.7.12"
  }
 },
 "nbformat": 4,
 "nbformat_minor": 5
}
